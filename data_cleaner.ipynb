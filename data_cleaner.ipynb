{
 "metadata": {
  "language_info": {
   "codemirror_mode": {
    "name": "ipython",
    "version": 3
   },
   "file_extension": ".py",
   "mimetype": "text/x-python",
   "name": "python",
   "nbconvert_exporter": "python",
   "pygments_lexer": "ipython3",
   "version": "3.8.5-final"
  },
  "orig_nbformat": 2,
  "kernelspec": {
   "name": "python3",
   "display_name": "Python 3.8.5 64-bit ('machinelearning': conda)",
   "metadata": {
    "interpreter": {
     "hash": "5694eae89c83a630f0be2b614947e66c2883c98761c83e3b5e0e997ba9dfa636"
    }
   }
  }
 },
 "nbformat": 4,
 "nbformat_minor": 2,
 "cells": [
  {
   "cell_type": "code",
   "execution_count": 8,
   "metadata": {},
   "outputs": [],
   "source": [
    "%matplotlib inline\n",
    "\n",
    "import requests\n",
    "import numpy as np\n",
    "import pandas as pd"
   ]
  },
  {
   "source": [
    "## Preface\n",
    "\n",
    "This is just a reference - the referenced file is not in the repo.\n",
    "Just a walkthrough on what happens in the original data since there are some unwanted and missing data all throughout."
   ],
   "cell_type": "markdown",
   "metadata": {}
  },
  {
   "source": [
    "Date is parsed to retain YYYY-MM-DD format."
   ],
   "cell_type": "markdown",
   "metadata": {}
  },
  {
   "cell_type": "code",
   "execution_count": null,
   "metadata": {},
   "outputs": [],
   "source": [
    "#pd.read_csv('https://bit.ly/3dmark_xz', compression='xz')\n",
    "data = pd.read_csv(\"data/combined.csv.xz\", parse_dates=[\"date\"]) #file isn't in this directory\n",
    "data.benchmark_version = data.benchmark_version.astype(\"str\")\n",
    "data.info()"
   ]
  },
  {
   "source": [
    "The columns below are dropped due to having seriously lacking data (around 50% of the dataset). There are non-average alternatives for these measurements except for the temperature. Imputing the temperature would be impossible."
   ],
   "cell_type": "markdown",
   "metadata": {}
  },
  {
   "cell_type": "code",
   "execution_count": 94,
   "metadata": {},
   "outputs": [],
   "source": [
    "data.drop([\n",
    "    \"cmbnd_score\", \n",
    "    \"cmbnd_fps\", \n",
    "    \"gpu_avg_temp\",\n",
    "    \"gpu_avg_clock_freq\",\n",
    "    \"gpu_avg_memclock_freq\"], axis=1, inplace=True)"
   ]
  },
  {
   "source": [
    "Unfinished benchmark runs return 0 as score - removing those results are necessary as they could skew everything with a long negative tail."
   ],
   "cell_type": "markdown",
   "metadata": {}
  },
  {
   "cell_type": "code",
   "execution_count": 95,
   "metadata": {},
   "outputs": [],
   "source": [
    "data = data.loc[data.score != 0]"
   ]
  },
  {
   "source": [
    "RAM clocks were saved erroneously due to some results not having them at all.\n",
    "\n",
    "For the meantime, they will be replaced with Numpy NaNs to be removed later after conversion."
   ],
   "cell_type": "markdown",
   "metadata": {}
  },
  {
   "cell_type": "code",
   "execution_count": 96,
   "metadata": {},
   "outputs": [],
   "source": [
    "data.ram_clock_freq = data.ram_clock_freq.str.replace('[^0-9\\s]+', '')\n",
    "data.ram_clock_freq.replace('', np.nan, inplace=True)\n",
    "data.gpu_score = data.gpu_score.str.replace('[^0-9\\s\\r\\n]+', '')\n",
    "data.gpu_score.replace('', np.nan, inplace=True)"
   ]
  },
  {
   "cell_type": "code",
   "execution_count": 97,
   "metadata": {},
   "outputs": [],
   "source": [
    "# typecasting ram_clock_freq\n",
    "data.ram_clock_freq = pd.to_numeric(data.ram_clock_freq)\n",
    "\n",
    "# typecasting gpu_score\n",
    "data.gpu_score = pd.to_numeric(data.gpu_score)"
   ]
  },
  {
   "source": [
    "After converting RAM clocks and GPU scores to numeric, let's have a peek at results retained."
   ],
   "cell_type": "markdown",
   "metadata": {}
  },
  {
   "cell_type": "code",
   "execution_count": 98,
   "metadata": {},
   "outputs": [
    {
     "output_type": "stream",
     "name": "stdout",
     "text": [
      "<class 'pandas.core.frame.DataFrame'>\nInt64Index: 1190273 entries, 0 to 1246200\nData columns (total 30 columns):\n #   Column              Non-Null Count    Dtype         \n---  ------              --------------    -----         \n 0   id                  1190273 non-null  int64         \n 1   benchmark           1190273 non-null  object        \n 2   benchmark_version   1190273 non-null  object        \n 3   cpu_clock_freq      1190273 non-null  int64         \n 4   cpu_cores           1190273 non-null  int64         \n 5   cpu_litho           1190273 non-null  int64         \n 6   cpu_make            1190273 non-null  object        \n 7   cpu_score           1190273 non-null  int64         \n 8   cpu_sku             1190273 non-null  object        \n 9   cpu_socket          1190194 non-null  object        \n 10  cpu_tdp             1190273 non-null  int64         \n 11  cpu_fps             1190273 non-null  float64       \n 12  date                1190273 non-null  datetime64[ns]\n 13  gpu                 1190273 non-null  object        \n 14  gpu_clock_freq      1190273 non-null  int64         \n 15  gpu_count           1190273 non-null  int64         \n 16  gpu_driver_status   1190273 non-null  object        \n 17  gpu_driver_version  1189964 non-null  object        \n 18  gpu_memclock_freq   1190273 non-null  int64         \n 19  gpu_score           1173889 non-null  float64       \n 20  gpu_vendor          1190273 non-null  object        \n 21  gpu_vram            1190273 non-null  int64         \n 22  gt1                 1190273 non-null  float64       \n 23  gt2                 1190273 non-null  float64       \n 24  motherboard         1190273 non-null  object        \n 25  os                  1190273 non-null  object        \n 26  ram                 1190273 non-null  int64         \n 27  ram_clock_freq      1164364 non-null  float64       \n 28  score               1190273 non-null  int64         \n 29  storage             1190273 non-null  object        \ndtypes: datetime64[ns](1), float64(5), int64(12), object(12)\nmemory usage: 281.5+ MB\n"
     ]
    }
   ],
   "source": [
    "data.info()"
   ]
  },
  {
   "source": [
    "data.isnull().mean()*100"
   ],
   "cell_type": "code",
   "metadata": {},
   "execution_count": 99,
   "outputs": [
    {
     "output_type": "execute_result",
     "data": {
      "text/plain": [
       "id                    0.000000\n",
       "benchmark             0.000000\n",
       "benchmark_version     0.000000\n",
       "cpu_clock_freq        0.000000\n",
       "cpu_cores             0.000000\n",
       "cpu_litho             0.000000\n",
       "cpu_make              0.000000\n",
       "cpu_score             0.000000\n",
       "cpu_sku               0.000000\n",
       "cpu_socket            0.006637\n",
       "cpu_tdp               0.000000\n",
       "cpu_fps               0.000000\n",
       "date                  0.000000\n",
       "gpu                   0.000000\n",
       "gpu_clock_freq        0.000000\n",
       "gpu_count             0.000000\n",
       "gpu_driver_status     0.000000\n",
       "gpu_driver_version    0.025960\n",
       "gpu_memclock_freq     0.000000\n",
       "gpu_score             1.376491\n",
       "gpu_vendor            0.000000\n",
       "gpu_vram              0.000000\n",
       "gt1                   0.000000\n",
       "gt2                   0.000000\n",
       "motherboard           0.000000\n",
       "os                    0.000000\n",
       "ram                   0.000000\n",
       "ram_clock_freq        2.176728\n",
       "score                 0.000000\n",
       "storage               0.000000\n",
       "dtype: float64"
      ]
     },
     "metadata": {},
     "execution_count": 99
    }
   ]
  },
  {
   "source": [
    "Overall, there are 2.177% results that will be pruned from the dataset. Imputing came into mind but the loss is negligible."
   ],
   "cell_type": "markdown",
   "metadata": {}
  },
  {
   "cell_type": "code",
   "execution_count": 100,
   "metadata": {},
   "outputs": [
    {
     "output_type": "execute_result",
     "data": {
      "text/plain": [
       "             id benchmark benchmark_version  cpu_clock_freq  cpu_cores  \\\n",
       "16385   9127260  Time Spy               1.0            4201          4   \n",
       "16386  11409122  Time Spy               1.0            3992          6   \n",
       "16387  13902739  Time Spy               1.2            4167          6   \n",
       "16388  11042706  Time Spy               1.0            4800          8   \n",
       "16389  10064806  Time Spy               1.0            4459          6   \n",
       "\n",
       "       cpu_litho cpu_make  cpu_score                  cpu_sku cpu_socket  \\\n",
       "16385         22    Intel       2968  Core i5-4690K Processor    LGA1150   \n",
       "16386         14    Intel       5246  Core i5-9400F Processor  FCLGA1151   \n",
       "16387          7      AMD       7300             Ryzen 5 3600        AM4   \n",
       "16388         14    Intel      10113  Core i9-9900K Processor  FCLGA1151   \n",
       "16389         12      AMD       6084            Ryzen 5 2600X        AM4   \n",
       "\n",
       "       cpu_tdp  cpu_fps       date                         gpu  \\\n",
       "16385       88     9.97 2019-11-04  NVIDIA GeForce GTX 1660 Ti   \n",
       "16386       65    17.63 2020-04-10  NVIDIA GeForce GTX 1660 Ti   \n",
       "16387       65    24.53 2020-09-16  NVIDIA GeForce GTX 1660 Ti   \n",
       "16388       95    33.98 2020-03-19  NVIDIA GeForce GTX 1660 Ti   \n",
       "16389       95    20.44 2020-01-07  NVIDIA GeForce GTX 1660 Ti   \n",
       "\n",
       "       gpu_clock_freq  gpu_count gpu_driver_status gpu_driver_version  \\\n",
       "16385            1950          1         Approved       25.21.14.1967   \n",
       "16386            1950          1         Approved       26.21.14.4250   \n",
       "16387            1980          1         Approved       27.21.14.5206   \n",
       "16388            1875          1         Approved       26.21.14.4259   \n",
       "16389            2010          1         Approved       26.21.14.3086   \n",
       "\n",
       "       gpu_memclock_freq  gpu_score                           gpu_vendor  \\\n",
       "16385               1500     6436.0       Giga-Byte Technology Co., Ltd.   \n",
       "16386               1500     6324.0                   NVidia Corporation   \n",
       "16387               1534     6437.0                   NVidia Corporation   \n",
       "16388               1500     6089.0                                ZOTAC   \n",
       "16389               1500     6234.0  Micro-Star International Co ., Ltd.   \n",
       "\n",
       "       gpu_vram    gt1    gt2                                 motherboard  \\\n",
       "16385      6144  41.67  37.12                       MSI Z97-S02 (MS-7821)   \n",
       "16386      6144  40.73  36.65           ASUSTeK COMPUTER INC. EX-B360M-V3   \n",
       "16387      6144  41.72  37.09  Gigabyte Technology Co., Ltd. B450M GAMING   \n",
       "16388      6144  39.10  35.38                ASRock Z390 Phantom Gaming 6   \n",
       "16389      6144  40.11  36.16                           ASRock B450M Pro4   \n",
       "\n",
       "                                   os    ram  ram_clock_freq  score  \\\n",
       "16385  64-bit Windows 10 (10.0.18362)   8192          1332.0   5476   \n",
       "16386  64-bit Windows 10 (10.0.17763)  16384          2658.0   6134   \n",
       "16387  64-bit Windows 10 (10.0.19041)  16384          3592.0   6553   \n",
       "16388  64-bit Windows 10 (10.0.18362)  32768          2400.0   6475   \n",
       "16389  64-bit Windows 10 (10.0.18363)  16384          2992.0   6211   \n",
       "\n",
       "                                storage  \n",
       "16385  250 GB Samsung SSD 840 EVO 250GB  \n",
       "16386  500 GB Samsung SSD 860 EVO 500GB  \n",
       "16387                240 GB ADATA SU650  \n",
       "16388        1,024 GB SPCC M.2 PCIe SSD  \n",
       "16389       240 GB KINGSTON SA400M8240G  "
      ],
      "text/html": "<div>\n<style scoped>\n    .dataframe tbody tr th:only-of-type {\n        vertical-align: middle;\n    }\n\n    .dataframe tbody tr th {\n        vertical-align: top;\n    }\n\n    .dataframe thead th {\n        text-align: right;\n    }\n</style>\n<table border=\"1\" class=\"dataframe\">\n  <thead>\n    <tr style=\"text-align: right;\">\n      <th></th>\n      <th>id</th>\n      <th>benchmark</th>\n      <th>benchmark_version</th>\n      <th>cpu_clock_freq</th>\n      <th>cpu_cores</th>\n      <th>cpu_litho</th>\n      <th>cpu_make</th>\n      <th>cpu_score</th>\n      <th>cpu_sku</th>\n      <th>cpu_socket</th>\n      <th>cpu_tdp</th>\n      <th>cpu_fps</th>\n      <th>date</th>\n      <th>gpu</th>\n      <th>gpu_clock_freq</th>\n      <th>gpu_count</th>\n      <th>gpu_driver_status</th>\n      <th>gpu_driver_version</th>\n      <th>gpu_memclock_freq</th>\n      <th>gpu_score</th>\n      <th>gpu_vendor</th>\n      <th>gpu_vram</th>\n      <th>gt1</th>\n      <th>gt2</th>\n      <th>motherboard</th>\n      <th>os</th>\n      <th>ram</th>\n      <th>ram_clock_freq</th>\n      <th>score</th>\n      <th>storage</th>\n    </tr>\n  </thead>\n  <tbody>\n    <tr>\n      <th>16385</th>\n      <td>9127260</td>\n      <td>Time Spy</td>\n      <td>1.0</td>\n      <td>4201</td>\n      <td>4</td>\n      <td>22</td>\n      <td>Intel</td>\n      <td>2968</td>\n      <td>Core i5-4690K Processor</td>\n      <td>LGA1150</td>\n      <td>88</td>\n      <td>9.97</td>\n      <td>2019-11-04</td>\n      <td>NVIDIA GeForce GTX 1660 Ti</td>\n      <td>1950</td>\n      <td>1</td>\n      <td>Approved</td>\n      <td>25.21.14.1967</td>\n      <td>1500</td>\n      <td>6436.0</td>\n      <td>Giga-Byte Technology Co., Ltd.</td>\n      <td>6144</td>\n      <td>41.67</td>\n      <td>37.12</td>\n      <td>MSI Z97-S02 (MS-7821)</td>\n      <td>64-bit Windows 10 (10.0.18362)</td>\n      <td>8192</td>\n      <td>1332.0</td>\n      <td>5476</td>\n      <td>250 GB Samsung SSD 840 EVO 250GB</td>\n    </tr>\n    <tr>\n      <th>16386</th>\n      <td>11409122</td>\n      <td>Time Spy</td>\n      <td>1.0</td>\n      <td>3992</td>\n      <td>6</td>\n      <td>14</td>\n      <td>Intel</td>\n      <td>5246</td>\n      <td>Core i5-9400F Processor</td>\n      <td>FCLGA1151</td>\n      <td>65</td>\n      <td>17.63</td>\n      <td>2020-04-10</td>\n      <td>NVIDIA GeForce GTX 1660 Ti</td>\n      <td>1950</td>\n      <td>1</td>\n      <td>Approved</td>\n      <td>26.21.14.4250</td>\n      <td>1500</td>\n      <td>6324.0</td>\n      <td>NVidia Corporation</td>\n      <td>6144</td>\n      <td>40.73</td>\n      <td>36.65</td>\n      <td>ASUSTeK COMPUTER INC. EX-B360M-V3</td>\n      <td>64-bit Windows 10 (10.0.17763)</td>\n      <td>16384</td>\n      <td>2658.0</td>\n      <td>6134</td>\n      <td>500 GB Samsung SSD 860 EVO 500GB</td>\n    </tr>\n    <tr>\n      <th>16387</th>\n      <td>13902739</td>\n      <td>Time Spy</td>\n      <td>1.2</td>\n      <td>4167</td>\n      <td>6</td>\n      <td>7</td>\n      <td>AMD</td>\n      <td>7300</td>\n      <td>Ryzen 5 3600</td>\n      <td>AM4</td>\n      <td>65</td>\n      <td>24.53</td>\n      <td>2020-09-16</td>\n      <td>NVIDIA GeForce GTX 1660 Ti</td>\n      <td>1980</td>\n      <td>1</td>\n      <td>Approved</td>\n      <td>27.21.14.5206</td>\n      <td>1534</td>\n      <td>6437.0</td>\n      <td>NVidia Corporation</td>\n      <td>6144</td>\n      <td>41.72</td>\n      <td>37.09</td>\n      <td>Gigabyte Technology Co., Ltd. B450M GAMING</td>\n      <td>64-bit Windows 10 (10.0.19041)</td>\n      <td>16384</td>\n      <td>3592.0</td>\n      <td>6553</td>\n      <td>240 GB ADATA SU650</td>\n    </tr>\n    <tr>\n      <th>16388</th>\n      <td>11042706</td>\n      <td>Time Spy</td>\n      <td>1.0</td>\n      <td>4800</td>\n      <td>8</td>\n      <td>14</td>\n      <td>Intel</td>\n      <td>10113</td>\n      <td>Core i9-9900K Processor</td>\n      <td>FCLGA1151</td>\n      <td>95</td>\n      <td>33.98</td>\n      <td>2020-03-19</td>\n      <td>NVIDIA GeForce GTX 1660 Ti</td>\n      <td>1875</td>\n      <td>1</td>\n      <td>Approved</td>\n      <td>26.21.14.4259</td>\n      <td>1500</td>\n      <td>6089.0</td>\n      <td>ZOTAC</td>\n      <td>6144</td>\n      <td>39.10</td>\n      <td>35.38</td>\n      <td>ASRock Z390 Phantom Gaming 6</td>\n      <td>64-bit Windows 10 (10.0.18362)</td>\n      <td>32768</td>\n      <td>2400.0</td>\n      <td>6475</td>\n      <td>1,024 GB SPCC M.2 PCIe SSD</td>\n    </tr>\n    <tr>\n      <th>16389</th>\n      <td>10064806</td>\n      <td>Time Spy</td>\n      <td>1.0</td>\n      <td>4459</td>\n      <td>6</td>\n      <td>12</td>\n      <td>AMD</td>\n      <td>6084</td>\n      <td>Ryzen 5 2600X</td>\n      <td>AM4</td>\n      <td>95</td>\n      <td>20.44</td>\n      <td>2020-01-07</td>\n      <td>NVIDIA GeForce GTX 1660 Ti</td>\n      <td>2010</td>\n      <td>1</td>\n      <td>Approved</td>\n      <td>26.21.14.3086</td>\n      <td>1500</td>\n      <td>6234.0</td>\n      <td>Micro-Star International Co ., Ltd.</td>\n      <td>6144</td>\n      <td>40.11</td>\n      <td>36.16</td>\n      <td>ASRock B450M Pro4</td>\n      <td>64-bit Windows 10 (10.0.18363)</td>\n      <td>16384</td>\n      <td>2992.0</td>\n      <td>6211</td>\n      <td>240 GB KINGSTON SA400M8240G</td>\n    </tr>\n  </tbody>\n</table>\n</div>"
     },
     "metadata": {},
     "execution_count": 100
    }
   ],
   "source": [
    "data.dropna(inplace=True)\n",
    "pd.set_option('display.max_columns', None)\n",
    "data.head()"
   ]
  },
  {
   "source": [
    "For further cleanup, some variables had 0 results. Selecting those that have non-zero values for those columns are necessary to preserve the data."
   ],
   "cell_type": "markdown",
   "metadata": {}
  },
  {
   "cell_type": "code",
   "execution_count": 101,
   "metadata": {},
   "outputs": [],
   "source": [
    "data = data.loc[~(\n",
    "    (data['cpu_fps'] == 0) | \n",
    "    (data['gt1'] == 0) | \n",
    "    (data['gt2'] == 0) | \n",
    "    (data['ram'] == 0) |\n",
    "    (data['cpu_litho'] == 0) |\n",
    "    (data['ram_clock_freq'] == 0))]\n",
    "data = data.loc[data.cpu_clock_freq < 8000]\n",
    "data = data.loc[data.ram_clock_freq < 5000.0]"
   ]
  },
  {
   "cell_type": "code",
   "execution_count": 102,
   "metadata": {},
   "outputs": [
    {
     "output_type": "stream",
     "name": "stdout",
     "text": [
      "<class 'pandas.core.frame.DataFrame'>\nInt64Index: 1138545 entries, 16385 to 1246200\nData columns (total 30 columns):\n #   Column              Non-Null Count    Dtype         \n---  ------              --------------    -----         \n 0   id                  1138545 non-null  int64         \n 1   benchmark           1138545 non-null  object        \n 2   benchmark_version   1138545 non-null  object        \n 3   cpu_clock_freq      1138545 non-null  int64         \n 4   cpu_cores           1138545 non-null  int64         \n 5   cpu_litho           1138545 non-null  int64         \n 6   cpu_make            1138545 non-null  object        \n 7   cpu_score           1138545 non-null  int64         \n 8   cpu_sku             1138545 non-null  object        \n 9   cpu_socket          1138545 non-null  object        \n 10  cpu_tdp             1138545 non-null  int64         \n 11  cpu_fps             1138545 non-null  float64       \n 12  date                1138545 non-null  datetime64[ns]\n 13  gpu                 1138545 non-null  object        \n 14  gpu_clock_freq      1138545 non-null  int64         \n 15  gpu_count           1138545 non-null  int64         \n 16  gpu_driver_status   1138545 non-null  object        \n 17  gpu_driver_version  1138545 non-null  object        \n 18  gpu_memclock_freq   1138545 non-null  int64         \n 19  gpu_score           1138545 non-null  float64       \n 20  gpu_vendor          1138545 non-null  object        \n 21  gpu_vram            1138545 non-null  int64         \n 22  gt1                 1138545 non-null  float64       \n 23  gt2                 1138545 non-null  float64       \n 24  motherboard         1138545 non-null  object        \n 25  os                  1138545 non-null  object        \n 26  ram                 1138545 non-null  int64         \n 27  ram_clock_freq      1138545 non-null  float64       \n 28  score               1138545 non-null  int64         \n 29  storage             1138545 non-null  object        \ndtypes: datetime64[ns](1), float64(5), int64(12), object(12)\nmemory usage: 269.3+ MB\n"
     ]
    }
   ],
   "source": [
    "data.info()"
   ]
  },
  {
   "source": [
    "The file is still huge if saved as a CSV. To lessen total project size, I will be saving this new dataframe with xz compression."
   ],
   "cell_type": "markdown",
   "metadata": {}
  },
  {
   "cell_type": "code",
   "execution_count": 103,
   "metadata": {},
   "outputs": [],
   "source": [
    "compression_settings = dict(method=\"xz\", archive_name=\"test.csv\")\n",
    "data.to_csv(\"3dmarktimespy.csv.xz\", index=False, compression=compression_settings)"
   ]
  },
  {
   "cell_type": "code",
   "execution_count": 104,
   "metadata": {},
   "outputs": [
    {
     "output_type": "execute_result",
     "data": {
      "text/plain": [
       "         id benchmark  benchmark_version  cpu_clock_freq  cpu_cores  \\\n",
       "0   9127260  Time Spy                1.0            4201          4   \n",
       "1  11409122  Time Spy                1.0            3992          6   \n",
       "2  13902739  Time Spy                1.2            4167          6   \n",
       "3  11042706  Time Spy                1.0            4800          8   \n",
       "4  10064806  Time Spy                1.0            4459          6   \n",
       "\n",
       "   cpu_litho cpu_make  cpu_score                  cpu_sku cpu_socket  cpu_tdp  \\\n",
       "0         22    Intel       2968  Core i5-4690K Processor    LGA1150       88   \n",
       "1         14    Intel       5246  Core i5-9400F Processor  FCLGA1151       65   \n",
       "2          7      AMD       7300             Ryzen 5 3600        AM4       65   \n",
       "3         14    Intel      10113  Core i9-9900K Processor  FCLGA1151       95   \n",
       "4         12      AMD       6084            Ryzen 5 2600X        AM4       95   \n",
       "\n",
       "   cpu_fps        date                         gpu  gpu_clock_freq  gpu_count  \\\n",
       "0     9.97  2019-11-04  NVIDIA GeForce GTX 1660 Ti            1950          1   \n",
       "1    17.63  2020-04-10  NVIDIA GeForce GTX 1660 Ti            1950          1   \n",
       "2    24.53  2020-09-16  NVIDIA GeForce GTX 1660 Ti            1980          1   \n",
       "3    33.98  2020-03-19  NVIDIA GeForce GTX 1660 Ti            1875          1   \n",
       "4    20.44  2020-01-07  NVIDIA GeForce GTX 1660 Ti            2010          1   \n",
       "\n",
       "  gpu_driver_status gpu_driver_version  gpu_memclock_freq  gpu_score  \\\n",
       "0         Approved       25.21.14.1967               1500     6436.0   \n",
       "1         Approved       26.21.14.4250               1500     6324.0   \n",
       "2         Approved       27.21.14.5206               1534     6437.0   \n",
       "3         Approved       26.21.14.4259               1500     6089.0   \n",
       "4         Approved       26.21.14.3086               1500     6234.0   \n",
       "\n",
       "                            gpu_vendor  gpu_vram    gt1    gt2  \\\n",
       "0       Giga-Byte Technology Co., Ltd.      6144  41.67  37.12   \n",
       "1                   NVidia Corporation      6144  40.73  36.65   \n",
       "2                   NVidia Corporation      6144  41.72  37.09   \n",
       "3                                ZOTAC      6144  39.10  35.38   \n",
       "4  Micro-Star International Co ., Ltd.      6144  40.11  36.16   \n",
       "\n",
       "                                  motherboard                              os  \\\n",
       "0                       MSI Z97-S02 (MS-7821)  64-bit Windows 10 (10.0.18362)   \n",
       "1           ASUSTeK COMPUTER INC. EX-B360M-V3  64-bit Windows 10 (10.0.17763)   \n",
       "2  Gigabyte Technology Co., Ltd. B450M GAMING  64-bit Windows 10 (10.0.19041)   \n",
       "3                ASRock Z390 Phantom Gaming 6  64-bit Windows 10 (10.0.18362)   \n",
       "4                           ASRock B450M Pro4  64-bit Windows 10 (10.0.18363)   \n",
       "\n",
       "     ram  ram_clock_freq  score                           storage  \n",
       "0   8192          1332.0   5476  250 GB Samsung SSD 840 EVO 250GB  \n",
       "1  16384          2658.0   6134  500 GB Samsung SSD 860 EVO 500GB  \n",
       "2  16384          3592.0   6553                240 GB ADATA SU650  \n",
       "3  32768          2400.0   6475        1,024 GB SPCC M.2 PCIe SSD  \n",
       "4  16384          2992.0   6211       240 GB KINGSTON SA400M8240G  "
      ],
      "text/html": "<div>\n<style scoped>\n    .dataframe tbody tr th:only-of-type {\n        vertical-align: middle;\n    }\n\n    .dataframe tbody tr th {\n        vertical-align: top;\n    }\n\n    .dataframe thead th {\n        text-align: right;\n    }\n</style>\n<table border=\"1\" class=\"dataframe\">\n  <thead>\n    <tr style=\"text-align: right;\">\n      <th></th>\n      <th>id</th>\n      <th>benchmark</th>\n      <th>benchmark_version</th>\n      <th>cpu_clock_freq</th>\n      <th>cpu_cores</th>\n      <th>cpu_litho</th>\n      <th>cpu_make</th>\n      <th>cpu_score</th>\n      <th>cpu_sku</th>\n      <th>cpu_socket</th>\n      <th>cpu_tdp</th>\n      <th>cpu_fps</th>\n      <th>date</th>\n      <th>gpu</th>\n      <th>gpu_clock_freq</th>\n      <th>gpu_count</th>\n      <th>gpu_driver_status</th>\n      <th>gpu_driver_version</th>\n      <th>gpu_memclock_freq</th>\n      <th>gpu_score</th>\n      <th>gpu_vendor</th>\n      <th>gpu_vram</th>\n      <th>gt1</th>\n      <th>gt2</th>\n      <th>motherboard</th>\n      <th>os</th>\n      <th>ram</th>\n      <th>ram_clock_freq</th>\n      <th>score</th>\n      <th>storage</th>\n    </tr>\n  </thead>\n  <tbody>\n    <tr>\n      <th>0</th>\n      <td>9127260</td>\n      <td>Time Spy</td>\n      <td>1.0</td>\n      <td>4201</td>\n      <td>4</td>\n      <td>22</td>\n      <td>Intel</td>\n      <td>2968</td>\n      <td>Core i5-4690K Processor</td>\n      <td>LGA1150</td>\n      <td>88</td>\n      <td>9.97</td>\n      <td>2019-11-04</td>\n      <td>NVIDIA GeForce GTX 1660 Ti</td>\n      <td>1950</td>\n      <td>1</td>\n      <td>Approved</td>\n      <td>25.21.14.1967</td>\n      <td>1500</td>\n      <td>6436.0</td>\n      <td>Giga-Byte Technology Co., Ltd.</td>\n      <td>6144</td>\n      <td>41.67</td>\n      <td>37.12</td>\n      <td>MSI Z97-S02 (MS-7821)</td>\n      <td>64-bit Windows 10 (10.0.18362)</td>\n      <td>8192</td>\n      <td>1332.0</td>\n      <td>5476</td>\n      <td>250 GB Samsung SSD 840 EVO 250GB</td>\n    </tr>\n    <tr>\n      <th>1</th>\n      <td>11409122</td>\n      <td>Time Spy</td>\n      <td>1.0</td>\n      <td>3992</td>\n      <td>6</td>\n      <td>14</td>\n      <td>Intel</td>\n      <td>5246</td>\n      <td>Core i5-9400F Processor</td>\n      <td>FCLGA1151</td>\n      <td>65</td>\n      <td>17.63</td>\n      <td>2020-04-10</td>\n      <td>NVIDIA GeForce GTX 1660 Ti</td>\n      <td>1950</td>\n      <td>1</td>\n      <td>Approved</td>\n      <td>26.21.14.4250</td>\n      <td>1500</td>\n      <td>6324.0</td>\n      <td>NVidia Corporation</td>\n      <td>6144</td>\n      <td>40.73</td>\n      <td>36.65</td>\n      <td>ASUSTeK COMPUTER INC. EX-B360M-V3</td>\n      <td>64-bit Windows 10 (10.0.17763)</td>\n      <td>16384</td>\n      <td>2658.0</td>\n      <td>6134</td>\n      <td>500 GB Samsung SSD 860 EVO 500GB</td>\n    </tr>\n    <tr>\n      <th>2</th>\n      <td>13902739</td>\n      <td>Time Spy</td>\n      <td>1.2</td>\n      <td>4167</td>\n      <td>6</td>\n      <td>7</td>\n      <td>AMD</td>\n      <td>7300</td>\n      <td>Ryzen 5 3600</td>\n      <td>AM4</td>\n      <td>65</td>\n      <td>24.53</td>\n      <td>2020-09-16</td>\n      <td>NVIDIA GeForce GTX 1660 Ti</td>\n      <td>1980</td>\n      <td>1</td>\n      <td>Approved</td>\n      <td>27.21.14.5206</td>\n      <td>1534</td>\n      <td>6437.0</td>\n      <td>NVidia Corporation</td>\n      <td>6144</td>\n      <td>41.72</td>\n      <td>37.09</td>\n      <td>Gigabyte Technology Co., Ltd. B450M GAMING</td>\n      <td>64-bit Windows 10 (10.0.19041)</td>\n      <td>16384</td>\n      <td>3592.0</td>\n      <td>6553</td>\n      <td>240 GB ADATA SU650</td>\n    </tr>\n    <tr>\n      <th>3</th>\n      <td>11042706</td>\n      <td>Time Spy</td>\n      <td>1.0</td>\n      <td>4800</td>\n      <td>8</td>\n      <td>14</td>\n      <td>Intel</td>\n      <td>10113</td>\n      <td>Core i9-9900K Processor</td>\n      <td>FCLGA1151</td>\n      <td>95</td>\n      <td>33.98</td>\n      <td>2020-03-19</td>\n      <td>NVIDIA GeForce GTX 1660 Ti</td>\n      <td>1875</td>\n      <td>1</td>\n      <td>Approved</td>\n      <td>26.21.14.4259</td>\n      <td>1500</td>\n      <td>6089.0</td>\n      <td>ZOTAC</td>\n      <td>6144</td>\n      <td>39.10</td>\n      <td>35.38</td>\n      <td>ASRock Z390 Phantom Gaming 6</td>\n      <td>64-bit Windows 10 (10.0.18362)</td>\n      <td>32768</td>\n      <td>2400.0</td>\n      <td>6475</td>\n      <td>1,024 GB SPCC M.2 PCIe SSD</td>\n    </tr>\n    <tr>\n      <th>4</th>\n      <td>10064806</td>\n      <td>Time Spy</td>\n      <td>1.0</td>\n      <td>4459</td>\n      <td>6</td>\n      <td>12</td>\n      <td>AMD</td>\n      <td>6084</td>\n      <td>Ryzen 5 2600X</td>\n      <td>AM4</td>\n      <td>95</td>\n      <td>20.44</td>\n      <td>2020-01-07</td>\n      <td>NVIDIA GeForce GTX 1660 Ti</td>\n      <td>2010</td>\n      <td>1</td>\n      <td>Approved</td>\n      <td>26.21.14.3086</td>\n      <td>1500</td>\n      <td>6234.0</td>\n      <td>Micro-Star International Co ., Ltd.</td>\n      <td>6144</td>\n      <td>40.11</td>\n      <td>36.16</td>\n      <td>ASRock B450M Pro4</td>\n      <td>64-bit Windows 10 (10.0.18363)</td>\n      <td>16384</td>\n      <td>2992.0</td>\n      <td>6211</td>\n      <td>240 GB KINGSTON SA400M8240G</td>\n    </tr>\n  </tbody>\n</table>\n</div>"
     },
     "metadata": {},
     "execution_count": 104
    }
   ],
   "source": [
    "ndata = pd.read_csv(\"3dmarktimespy.csv.xz\") #not the final name\n",
    "ndata.head()"
   ]
  },
  {
   "cell_type": "code",
   "execution_count": 105,
   "metadata": {},
   "outputs": [
    {
     "output_type": "stream",
     "name": "stdout",
     "text": [
      "<class 'pandas.core.frame.DataFrame'>\nRangeIndex: 1138545 entries, 0 to 1138544\nData columns (total 30 columns):\n #   Column              Non-Null Count    Dtype  \n---  ------              --------------    -----  \n 0   id                  1138545 non-null  int64  \n 1   benchmark           1138545 non-null  object \n 2   benchmark_version   1138545 non-null  float64\n 3   cpu_clock_freq      1138545 non-null  int64  \n 4   cpu_cores           1138545 non-null  int64  \n 5   cpu_litho           1138545 non-null  int64  \n 6   cpu_make            1138545 non-null  object \n 7   cpu_score           1138545 non-null  int64  \n 8   cpu_sku             1138545 non-null  object \n 9   cpu_socket          1138545 non-null  object \n 10  cpu_tdp             1138545 non-null  int64  \n 11  cpu_fps             1138545 non-null  float64\n 12  date                1138545 non-null  object \n 13  gpu                 1138545 non-null  object \n 14  gpu_clock_freq      1138545 non-null  int64  \n 15  gpu_count           1138545 non-null  int64  \n 16  gpu_driver_status   1138545 non-null  object \n 17  gpu_driver_version  1138545 non-null  object \n 18  gpu_memclock_freq   1138545 non-null  int64  \n 19  gpu_score           1138545 non-null  float64\n 20  gpu_vendor          1138545 non-null  object \n 21  gpu_vram            1138545 non-null  int64  \n 22  gt1                 1138545 non-null  float64\n 23  gt2                 1138545 non-null  float64\n 24  motherboard         1138545 non-null  object \n 25  os                  1138545 non-null  object \n 26  ram                 1138545 non-null  int64  \n 27  ram_clock_freq      1138545 non-null  float64\n 28  score               1138545 non-null  int64  \n 29  storage             1138545 non-null  object \ndtypes: float64(6), int64(12), object(12)\nmemory usage: 260.6+ MB\n"
     ]
    }
   ],
   "source": [
    "ndata.info()"
   ]
  },
  {
   "cell_type": "code",
   "execution_count": null,
   "metadata": {},
   "outputs": [],
   "source": [
    "# dtype mapping for later use in project\n",
    "combined_dtypes = {\n",
    "    \"id\" : np.uint32,\n",
    "    \"benchmark_version\" : np.float16,\n",
    "    \"cpu_clock_freq\" : np.float16,\n",
    "    \"cpu_cores\" : np.uint8,\n",
    "    \"cpu_litho\" : np.uint8,\n",
    "    \"cpu_score\" : np.float16,\n",
    "    \"cpu_tdp\" : np.uint8,\n",
    "    \"cpu_fps\" : np.float16,\n",
    "    \"gpu_clock_freq\" : np.float16,\n",
    "    \"gpu_count\" : np.uint8,\n",
    "    \"gpu_memclock_freq\" : np.float16,\n",
    "    \"gpu_score\" : np.uint32,\n",
    "    \"gpu_vram\" : np.uint16,\n",
    "    \"gt1\" : np.float16,\n",
    "    \"gt2\" : np.float16,\n",
    "    \"ram\" : np.uint16,\n",
    "    \"score\" : np.uint16,\n",
    "}"
   ]
  },
  {
   "source": [
    "Compression was a success! The data integrity is retained with no loss in information. This can now be used for projects.\n",
    "\n",
    "Do note that you should copy the dtype mapping above to lessen size and improve runtimes."
   ],
   "cell_type": "markdown",
   "metadata": {}
  }
 ]
}